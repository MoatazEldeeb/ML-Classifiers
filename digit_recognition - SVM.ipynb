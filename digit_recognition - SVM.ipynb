{
 "cells": [
  {
   "attachments": {},
   "cell_type": "markdown",
   "metadata": {},
   "source": [
    "# Importing Libraries"
   ]
  },
  {
   "cell_type": "code",
   "execution_count": 127,
   "metadata": {},
   "outputs": [],
   "source": [
    "from samples import *\n",
    "import util\n",
    "import numpy as np\n",
    "from sklearn.metrics import confusion_matrix"
   ]
  },
  {
   "attachments": {},
   "cell_type": "markdown",
   "metadata": {},
   "source": [
    "# Loading data"
   ]
  },
  {
   "cell_type": "code",
   "execution_count": 128,
   "metadata": {},
   "outputs": [],
   "source": [
    "import doctest\n",
    "doctest.testmod() # Test the interactive sessions in function comments\n",
    "n = 5000\n",
    "n_test = 1000\n",
    "n_validation = 1000\n",
    "\n",
    "items = loadDataFile(\"digitdata/trainingimages\", n,28,28)\n",
    "labels = loadLabelsFile(\"digitdata/traininglabels\", n)\n",
    "\n",
    "items_validation = loadDataFile(\"digitdata/validationimages\", n_validation,28,28)\n",
    "labels_validation = loadLabelsFile(\"digitdata/validationlabels\", n_validation)\n",
    "\n",
    "items_test = loadDataFile(\"digitdata/validationimages\", n_test,28,28)\n",
    "labels_test = loadLabelsFile(\"digitdata/validationlabels\", n_test)\n",
    "\n",
    "#Adding validation data to training data\n",
    "# items = items + items_validation\n",
    "# labels = labels + labels_validation\n",
    "\n",
    "#Adding validation data to testing data\n",
    "items_test = items_test + items_validation\n",
    "labels_test = labels_test + labels_validation"
   ]
  },
  {
   "attachments": {},
   "cell_type": "markdown",
   "metadata": {},
   "source": [
    "Printing Structure of a digit"
   ]
  },
  {
   "cell_type": "code",
   "execution_count": 129,
   "metadata": {},
   "outputs": [
    {
     "name": "stdout",
     "output_type": "stream",
     "text": [
      "[[0, 0, 0, 0, 0, 0, 0, 0, 0, 0, 0, 0, 0, 0, 0, 0, 0, 0, 0, 0, 0, 0, 0, 0, 0, 0, 0, 0], [0, 0, 0, 0, 0, 0, 0, 0, 0, 0, 0, 0, 0, 0, 0, 0, 0, 0, 0, 0, 0, 0, 0, 0, 0, 0, 0, 0], [0, 0, 0, 0, 0, 0, 0, 0, 0, 0, 0, 0, 0, 0, 0, 0, 0, 0, 0, 0, 0, 0, 0, 0, 0, 0, 0, 0], [0, 0, 0, 0, 0, 0, 0, 0, 0, 0, 0, 0, 0, 0, 0, 0, 0, 0, 0, 0, 0, 0, 0, 0, 0, 0, 0, 0], [0, 0, 0, 0, 0, 0, 0, 0, 0, 0, 0, 0, 0, 0, 0, 0, 0, 0, 0, 0, 0, 0, 0, 1, 1, 0, 0, 0], [0, 0, 0, 0, 0, 0, 0, 0, 0, 0, 0, 0, 0, 0, 0, 0, 0, 0, 0, 0, 0, 0, 0, 1, 2, 0, 0, 0], [0, 0, 0, 0, 0, 0, 0, 0, 0, 0, 0, 0, 0, 0, 0, 0, 0, 0, 0, 0, 0, 0, 0, 2, 2, 0, 0, 0], [0, 0, 0, 0, 0, 0, 0, 1, 0, 0, 0, 0, 0, 0, 0, 0, 0, 0, 0, 0, 0, 0, 1, 2, 2, 0, 0, 0], [0, 0, 0, 0, 0, 0, 1, 2, 2, 1, 0, 0, 0, 0, 0, 0, 0, 0, 0, 0, 0, 1, 2, 2, 2, 0, 0, 0], [0, 0, 0, 0, 0, 0, 1, 2, 2, 1, 0, 0, 0, 0, 0, 0, 0, 0, 0, 0, 0, 1, 2, 2, 1, 0, 0, 0], [0, 0, 0, 0, 0, 0, 1, 2, 2, 1, 0, 0, 0, 0, 0, 0, 0, 0, 0, 0, 1, 2, 2, 2, 1, 0, 0, 0], [0, 0, 0, 0, 0, 0, 1, 2, 2, 2, 1, 1, 0, 0, 0, 0, 0, 0, 0, 0, 1, 2, 2, 2, 0, 0, 0, 0], [0, 0, 0, 0, 0, 0, 1, 2, 2, 2, 2, 2, 1, 1, 0, 0, 0, 0, 0, 1, 2, 2, 2, 1, 0, 0, 0, 0], [0, 0, 0, 0, 0, 0, 2, 2, 2, 2, 1, 1, 2, 2, 1, 0, 0, 0, 0, 1, 2, 2, 2, 0, 0, 0, 0, 0], [0, 0, 0, 0, 0, 0, 2, 2, 2, 0, 0, 0, 1, 2, 2, 1, 0, 0, 1, 2, 2, 2, 1, 0, 0, 0, 0, 0], [0, 0, 0, 0, 0, 0, 2, 2, 1, 0, 0, 0, 0, 1, 2, 1, 0, 0, 1, 2, 2, 2, 0, 0, 0, 0, 0, 0], [0, 0, 0, 0, 0, 1, 2, 2, 2, 1, 0, 0, 0, 1, 2, 2, 1, 0, 1, 2, 2, 1, 0, 0, 0, 0, 0, 0], [0, 0, 0, 0, 0, 1, 2, 2, 2, 1, 0, 0, 0, 0, 1, 2, 2, 2, 2, 2, 2, 0, 0, 0, 0, 0, 0, 0], [0, 0, 0, 0, 0, 1, 2, 1, 0, 0, 0, 0, 0, 0, 1, 1, 2, 2, 2, 2, 1, 0, 0, 0, 0, 0, 0, 0], [0, 0, 0, 0, 0, 1, 1, 1, 0, 0, 0, 0, 0, 0, 0, 1, 1, 2, 2, 1, 0, 0, 0, 0, 0, 0, 0, 0], [0, 0, 0, 0, 0, 1, 2, 1, 0, 0, 0, 0, 0, 0, 0, 0, 0, 1, 0, 0, 0, 0, 0, 0, 0, 0, 0, 0], [0, 0, 0, 0, 0, 2, 2, 1, 0, 0, 0, 0, 0, 0, 0, 0, 0, 0, 0, 0, 0, 0, 0, 0, 0, 0, 0, 0], [0, 0, 0, 0, 0, 2, 2, 1, 0, 0, 0, 0, 0, 0, 0, 0, 0, 0, 0, 0, 0, 0, 0, 0, 0, 0, 0, 0], [0, 0, 0, 0, 0, 1, 1, 0, 0, 0, 0, 0, 0, 0, 0, 0, 0, 0, 0, 0, 0, 0, 0, 0, 0, 0, 0, 0], [0, 0, 0, 0, 0, 0, 0, 0, 0, 0, 0, 0, 0, 0, 0, 0, 0, 0, 0, 0, 0, 0, 0, 0, 0, 0, 0, 0], [0, 0, 0, 0, 0, 0, 0, 0, 0, 0, 0, 0, 0, 0, 0, 0, 0, 0, 0, 0, 0, 0, 0, 0, 0, 0, 0, 0], [0, 0, 0, 0, 0, 0, 0, 0, 0, 0, 0, 0, 0, 0, 0, 0, 0, 0, 0, 0, 0, 0, 0, 0, 0, 0, 0, 0], [0, 0, 0, 0, 0, 0, 0, 0, 0, 0, 0, 0, 0, 0, 0, 0, 0, 0, 0, 0, 0, 0, 0, 0, 0, 0, 0, 0]]\n",
      "5\n"
     ]
    }
   ],
   "source": [
    "print(items[0].getPixels())\n",
    "print(labels[0])"
   ]
  },
  {
   "cell_type": "code",
   "execution_count": 130,
   "metadata": {},
   "outputs": [
    {
     "name": "stdout",
     "output_type": "stream",
     "text": [
      "5\n",
      "                            \n",
      "                            \n",
      "                            \n",
      "                            \n",
      "                            \n",
      "                +++++##+    \n",
      "        +++++######+###+    \n",
      "       +##########+++++     \n",
      "        #######+##          \n",
      "        +++###  ++          \n",
      "           +#+              \n",
      "           +#+              \n",
      "            +#+             \n",
      "            +##++           \n",
      "             +###++         \n",
      "              ++##++        \n",
      "                +##+        \n",
      "                 ###+       \n",
      "              +++###        \n",
      "            ++#####+        \n",
      "          ++######+         \n",
      "        ++######+           \n",
      "       +######+             \n",
      "    ++######+               \n",
      "    +####++                 \n",
      "                            \n",
      "                            \n",
      "                            \n"
     ]
    },
    {
     "data": {
      "image/png": "[encoded data removed]",
      "text/plain": [
       "<Figure size 640x480 with 1 Axes>"
      ]
     },
     "metadata": {},
     "output_type": "display_data"
    }
   ],
   "source": [
    "import matplotlib.pyplot as plt\n",
    "from scipy import ndimage\n",
    "\n",
    "rotated_img = ndimage.rotate(items[0].getPixels(), 90)\n",
    "plt.imshow(rotated_img,origin='lower')\n",
    "print(labels[0])\n",
    "print(items[0])"
   ]
  },
  {
   "attachments": {},
   "cell_type": "markdown",
   "metadata": {},
   "source": [
    "# Preprocessing data"
   ]
  },
  {
   "cell_type": "code",
   "execution_count": 131,
   "metadata": {},
   "outputs": [
    {
     "name": "stdout",
     "output_type": "stream",
     "text": [
      "(5000, 784)\n",
      "(5000,)\n",
      "5\n",
      "[0 0 0 0 0 0 0 0 0 0 0 0 0 0 0 0 0 0 0 0 0 0 0 0 0 0 0 0 0 0 0 0 0 0 0 0 0\n",
      " 0 0 0 0 0 0 0 0 0 0 0 0 0 0 0 0 0 0 0 0 0 0 0 0 0 0 0 0 0 0 0 0 0 0 0 0 0\n",
      " 0 0 0 0 0 0 0 0 0 0 0 0 0 0 0 0 0 0 0 0 0 0 0 0 0 0 0 0 0 0 0 0 0 0 0 0 0\n",
      " 0 0 0 0 0 0 0 0 0 0 0 0 0 0 0 0 0 0 0 0 0 0 0 0 1 1 0 0 0 0 0 0 0 0 0 0 0\n",
      " 0 0 0 0 0 0 0 0 0 0 0 0 0 0 0 1 2 0 0 0 0 0 0 0 0 0 0 0 0 0 0 0 0 0 0 0 0\n",
      " 0 0 0 0 0 0 2 2 0 0 0 0 0 0 0 0 0 0 1 0 0 0 0 0 0 0 0 0 0 0 0 0 0 1 2 2 0\n",
      " 0 0 0 0 0 0 0 0 1 2 2 1 0 0 0 0 0 0 0 0 0 0 0 1 2 2 2 0 0 0 0 0 0 0 0 0 1\n",
      " 2 2 1 0 0 0 0 0 0 0 0 0 0 0 1 2 2 1 0 0 0 0 0 0 0 0 0 1 2 2 1 0 0 0 0 0 0\n",
      " 0 0 0 0 1 2 2 2 1 0 0 0 0 0 0 0 0 0 1 2 2 2 1 1 0 0 0 0 0 0 0 0 1 2 2 2 0\n",
      " 0 0 0 0 0 0 0 0 0 1 2 2 2 2 2 1 1 0 0 0 0 0 1 2 2 2 1 0 0 0 0 0 0 0 0 0 0\n",
      " 2 2 2 2 1 1 2 2 1 0 0 0 0 1 2 2 2 0 0 0 0 0 0 0 0 0 0 0 2 2 2 0 0 0 1 2 2\n",
      " 1 0 0 1 2 2 2 1 0 0 0 0 0 0 0 0 0 0 0 2 2 1 0 0 0 0 1 2 1 0 0 1 2 2 2 0 0\n",
      " 0 0 0 0 0 0 0 0 0 1 2 2 2 1 0 0 0 1 2 2 1 0 1 2 2 1 0 0 0 0 0 0 0 0 0 0 0\n",
      " 1 2 2 2 1 0 0 0 0 1 2 2 2 2 2 2 0 0 0 0 0 0 0 0 0 0 0 0 1 2 1 0 0 0 0 0 0\n",
      " 1 1 2 2 2 2 1 0 0 0 0 0 0 0 0 0 0 0 0 1 1 1 0 0 0 0 0 0 0 1 1 2 2 1 0 0 0\n",
      " 0 0 0 0 0 0 0 0 0 0 1 2 1 0 0 0 0 0 0 0 0 0 1 0 0 0 0 0 0 0 0 0 0 0 0 0 0\n",
      " 0 2 2 1 0 0 0 0 0 0 0 0 0 0 0 0 0 0 0 0 0 0 0 0 0 0 0 0 0 2 2 1 0 0 0 0 0\n",
      " 0 0 0 0 0 0 0 0 0 0 0 0 0 0 0 0 0 0 0 0 1 1 0 0 0 0 0 0 0 0 0 0 0 0 0 0 0\n",
      " 0 0 0 0 0 0 0 0 0 0 0 0 0 0 0 0 0 0 0 0 0 0 0 0 0 0 0 0 0 0 0 0 0 0 0 0 0\n",
      " 0 0 0 0 0 0 0 0 0 0 0 0 0 0 0 0 0 0 0 0 0 0 0 0 0 0 0 0 0 0 0 0 0 0 0 0 0\n",
      " 0 0 0 0 0 0 0 0 0 0 0 0 0 0 0 0 0 0 0 0 0 0 0 0 0 0 0 0 0 0 0 0 0 0 0 0 0\n",
      " 0 0 0 0 0 0 0]\n"
     ]
    }
   ],
   "source": [
    "x_train = []\n",
    "for i in range(n):\n",
    "    x_train.append(items[i].getPixels())\n",
    "\n",
    "\n",
    "x_train= np.array(x_train)\n",
    "y_train = np.array(labels)\n",
    "\n",
    "x_train = x_train.reshape(n,784) #784 = 28*28\n",
    "\n",
    "x_test = []\n",
    "for i in range(n_test+n_validation):\n",
    "    x_test.append(items_test[i].getPixels())\n",
    "\n",
    "x_test= np.array(x_test)\n",
    "y_test = np.array(labels_test)\n",
    "\n",
    "x_test = x_test.reshape(n_test+n_validation,784)\n",
    "\n",
    "print(x_train.shape)\n",
    "print(y_train.shape)\n",
    "print(y_train[0])\n",
    "print(x_train[0])"
   ]
  },
  {
   "cell_type": "code",
   "execution_count": 132,
   "metadata": {},
   "outputs": [
    {
     "name": "stdout",
     "output_type": "stream",
     "text": [
      "784\n"
     ]
    }
   ],
   "source": [
    "print(len(x_train[0]))"
   ]
  },
  {
   "attachments": {},
   "cell_type": "markdown",
   "metadata": {},
   "source": [
    "# Learning with Support Vector Machine"
   ]
  },
  {
   "cell_type": "code",
   "execution_count": 133,
   "metadata": {},
   "outputs": [
    {
     "name": "stdout",
     "output_type": "stream",
     "text": [
      "0.891\n"
     ]
    }
   ],
   "source": [
    "from sklearn.svm import SVC\n",
    "from sklearn.metrics import accuracy_score,confusion_matrix\n",
    "\n",
    "svc = SVC(kernel='linear',random_state=1)\n",
    "fit = svc.fit(x_train,y_train)\n",
    "y_pred = fit.predict(x_test)\n",
    "# print(svc.score(x_test,y_test))\n",
    "print(accuracy_score(y_test,y_pred))"
   ]
  },
  {
   "cell_type": "code",
   "execution_count": 134,
   "metadata": {},
   "outputs": [
    {
     "name": "stdout",
     "output_type": "stream",
     "text": [
      "0.1: 0.885\n",
      "[[162   0   0   0   0   4   4   0   0   0]\n",
      " [  0 248   0   0   0   0   2   0   2   0]\n",
      " [  2   0 198   4   2   0   2   8  14   2]\n",
      " [  0   0   2 174   0  18   6   6   6   2]\n",
      " [  0   2   2   0 196   2   2   0   0  16]\n",
      " [  2   0   2   4   2 160   0   0   2   2]\n",
      " [  6   0   6   0   2   4 156   0   0   0]\n",
      " [  0   8   6   0   6   0   0 164   2  12]\n",
      " [  4   0   2  10   8   2   2   2 142   6]\n",
      " [  0   2   0   2   6   0   0   2   6 170]]\n",
      "1: 0.933\n",
      "[[166   0   0   0   0   2   2   0   0   0]\n",
      " [  0 248   0   0   0   0   2   0   2   0]\n",
      " [  0   0 216   0   2   0   2   6   6   0]\n",
      " [  0   0   0 194   0  12   2   4   0   2]\n",
      " [  0   0   2   0 204   0   0   2   0  12]\n",
      " [  0   0   0   2   2 164   2   0   2   2]\n",
      " [  6   0   2   0   2   0 164   0   0   0]\n",
      " [  0   2   4   2   2   0   0 182   0   6]\n",
      " [  4   0   2   6   4   0   0   2 160   0]\n",
      " [  0   0   0   2   6   0   0   6   6 168]]\n",
      "10: 0.943\n",
      "[[168   0   0   0   0   0   2   0   0   0]\n",
      " [  0 250   2   0   0   0   0   0   0   0]\n",
      " [  0   2 218   2   0   0   2   4   2   2]\n",
      " [  0   0   0 196   0  12   2   2   0   2]\n",
      " [  0   0   0   0 206   0   2   2   0  10]\n",
      " [  0   0   0   0   2 168   2   0   2   0]\n",
      " [  4   0   0   0   2   0 168   0   0   0]\n",
      " [  0   2   4   0   4   0   0 186   0   2]\n",
      " [  4   0   2   6   4   0   0   2 160   0]\n",
      " [  0   0   0   2  10   0   0   4   6 166]]\n",
      "100: 0.945\n",
      "[[168   0   0   0   0   0   2   0   0   0]\n",
      " [  0 250   2   0   0   0   0   0   0   0]\n",
      " [  0   2 218   2   0   0   2   4   2   2]\n",
      " [  0   0   0 196   0  12   2   2   0   2]\n",
      " [  0   0   0   0 206   0   2   2   0  10]\n",
      " [  0   0   0   0   2 168   2   0   2   0]\n",
      " [  4   0   0   0   2   0 168   0   0   0]\n",
      " [  0   2   4   0   4   0   0 186   0   2]\n",
      " [  4   0   2   6   4   0   0   2 160   0]\n",
      " [  0   0   0   2   8   0   0   2   6 170]]\n",
      "1000: 0.945\n",
      "[[168   0   0   0   0   0   2   0   0   0]\n",
      " [  0 250   2   0   0   0   0   0   0   0]\n",
      " [  0   2 218   2   0   0   2   4   2   2]\n",
      " [  0   0   0 196   0  12   2   2   0   2]\n",
      " [  0   0   0   0 206   0   2   2   0  10]\n",
      " [  0   0   0   0   2 168   2   0   2   0]\n",
      " [  4   0   0   0   2   0 168   0   0   0]\n",
      " [  0   2   4   0   4   0   0 186   0   2]\n",
      " [  4   0   2   6   4   0   0   2 160   0]\n",
      " [  0   0   0   2   8   0   0   2   6 170]]\n"
     ]
    }
   ],
   "source": [
    "cs = [0.1, 1, 10, 100, 1000]\n",
    "for c in cs:\n",
    "    svc = SVC(kernel='rbf',random_state=1, C=c).fit(x_train, y_train)\n",
    "    y_pred = svc.predict(x_test)\n",
    "    print(f\"{c}: {accuracy_score(y_test,y_pred)}\")\n",
    "    print(confusion_matrix(y_test,y_pred))"
   ]
  },
  {
   "attachments": {},
   "cell_type": "markdown",
   "metadata": {},
   "source": [
    "## Trying different kernels"
   ]
  },
  {
   "cell_type": "code",
   "execution_count": 135,
   "metadata": {},
   "outputs": [
    {
     "name": "stdout",
     "output_type": "stream",
     "text": [
      "kernel: accuracy\n",
      "linear: 0.891\n",
      "rbf: 0.933\n",
      "poly: 0.917\n"
     ]
    }
   ],
   "source": [
    "kernels = ['linear', 'rbf', 'poly']\n",
    "print(\"kernel: accuracy\")\n",
    "for kernel in kernels:\n",
    "  svc = SVC(kernel=kernel,random_state=1).fit(x_train, y_train)\n",
    "  y_pred = svc.predict(x_test)\n",
    "  print(f\"{kernel}: {accuracy_score(y_test,y_pred)}\")"
   ]
  },
  {
   "attachments": {},
   "cell_type": "markdown",
   "metadata": {},
   "source": [
    "## Trying different gammas"
   ]
  },
  {
   "cell_type": "code",
   "execution_count": 136,
   "metadata": {},
   "outputs": [
    {
     "name": "stdout",
     "output_type": "stream",
     "text": [
      "gamma: accuracy\n",
      "0.1: 0.199\n",
      "1: 0.126\n",
      "10: 0.126\n",
      "100: 0.126\n",
      "scale: 0.933\n",
      "auto: 0.915\n"
     ]
    }
   ],
   "source": [
    "gammas = [0.1, 1, 10, 100, 'scale', 'auto']\n",
    "print(\"gamma: accuracy\")\n",
    "for g in gammas:\n",
    "  svc = SVC(gamma=g,random_state=1).fit(x_train, y_train)\n",
    "  y_pred = svc.predict(x_test)\n",
    "  print(f\"{g}: {accuracy_score(y_test,y_pred)}\")\n",
    "  "
   ]
  },
  {
   "attachments": {},
   "cell_type": "markdown",
   "metadata": {},
   "source": [
    "## Trying different degrees of polynomials"
   ]
  },
  {
   "cell_type": "code",
   "execution_count": 137,
   "metadata": {},
   "outputs": [
    {
     "name": "stdout",
     "output_type": "stream",
     "text": [
      "degree: accuracy\n",
      "0: 0.126\n",
      "1: 0.909\n",
      "2: 0.934\n",
      "3: 0.917\n",
      "4: 0.886\n",
      "5: 0.85\n",
      "6: 0.805\n"
     ]
    }
   ],
   "source": [
    "degrees = [0, 1, 2, 3, 4, 5, 6]\n",
    "print(\"degree: accuracy\")\n",
    "for degree in degrees:\n",
    "  svc = SVC(kernel='poly',random_state=1, degree=degree).fit(x_train, y_train)\n",
    "  y_pred = svc.predict(x_test)\n",
    "  print(f\"{degree}: {accuracy_score(y_test,y_pred)}\")"
   ]
  },
  {
   "attachments": {},
   "cell_type": "markdown",
   "metadata": {},
   "source": [
    "### Using the best hyperparameters from each of the previous tries"
   ]
  },
  {
   "cell_type": "code",
   "execution_count": 164,
   "metadata": {},
   "outputs": [
    {
     "name": "stdout",
     "output_type": "stream",
     "text": [
      "0.945\n"
     ]
    }
   ],
   "source": [
    "svc = SVC(kernel='rbf',random_state=1, C=100,gamma='scale').fit(x_train, y_train)\n",
    "y_pred = svc.predict(x_test)\n",
    "print(f\"{accuracy_score(y_test,y_pred)}\")"
   ]
  },
  {
   "attachments": {},
   "cell_type": "markdown",
   "metadata": {},
   "source": [
    "# Hyperparameters tuning"
   ]
  },
  {
   "cell_type": "code",
   "execution_count": 157,
   "metadata": {},
   "outputs": [],
   "source": [
    "# Hyperparameters combinations\n",
    "hyperparameters = [{\n",
    "    \"C\":[0.1, 1, 10, 100],\n",
    "    \"kernel\":['rbf','linear','poly','sigmoid'],\n",
    "    \"gamma\":[0.1,'auto','scale'],\n",
    "    \"shrinking\":[True,False],\n",
    "    \"probability\":[False,True],\n",
    "    \n",
    "}\n",
    ",{\n",
    "    \"C\":[0.1, 1, 10, 100],\n",
    "    \"kernel\":['poly'],\n",
    "    \"degree\":[1,2,3,4,5,6,7,8,9]\n",
    "}\n",
    "]\n"
   ]
  },
  {
   "attachments": {},
   "cell_type": "markdown",
   "metadata": {},
   "source": [
    "## Using RandomizedSearchCV to search for best parameters\n",
    "We used randomized to pick a random 10 hyperparameter combinations because exhaustive search require too much time to search for all combinations"
   ]
  },
  {
   "cell_type": "code",
   "execution_count": 158,
   "metadata": {},
   "outputs": [],
   "source": [
    "# from sklearn.model_selection import GridSearchCV\n",
    "from sklearn.model_selection import RandomizedSearchCV\n",
    "\n",
    "# # search = GridSearchCV(estimator=svc,param_grid=hyperparameters,scoring='accuracy',verbose=5,n_jobs=-1)\n",
    "search = RandomizedSearchCV(estimator=SVC(random_state=1),param_distributions=hyperparameters,n_iter=10,cv=5,scoring='accuracy',n_jobs=-1)"
   ]
  },
  {
   "cell_type": "code",
   "execution_count": 159,
   "metadata": {},
   "outputs": [],
   "source": [
    "f = search.fit(x_train,y_train)"
   ]
  },
  {
   "cell_type": "code",
   "execution_count": 160,
   "metadata": {},
   "outputs": [
    {
     "data": {
      "text/plain": [
       "{'shrinking': False,\n",
       " 'probability': False,\n",
       " 'kernel': 'poly',\n",
       " 'gamma': 0.1,\n",
       " 'C': 0.1}"
      ]
     },
     "execution_count": 160,
     "metadata": {},
     "output_type": "execute_result"
    }
   ],
   "source": [
    "f.best_params_"
   ]
  },
  {
   "cell_type": "code",
   "execution_count": 161,
   "metadata": {},
   "outputs": [
    {
     "data": {
      "text/plain": [
       "0.9423999999999999"
      ]
     },
     "execution_count": 161,
     "metadata": {},
     "output_type": "execute_result"
    }
   ],
   "source": [
    "f.best_score_"
   ]
  }
 ],
 "metadata": {
  "kernelspec": {
   "display_name": "Python 3",
   "language": "python",
   "name": "python3"
  },
  "language_info": {
   "codemirror_mode": {
    "name": "ipython",
    "version": 3
   },
   "file_extension": ".py",
   "mimetype": "text/x-python",
   "name": "python",
   "nbconvert_exporter": "python",
   "pygments_lexer": "ipython3",
   "version": "3.11.0 (main, Oct 24 2022, 18:26:48) [MSC v.1933 64 bit (AMD64)]"
  },
  "orig_nbformat": 4,
  "vscode": {
   "interpreter": {
    "hash": "c261aea317cc0286b3b3261fbba9abdec21eaa57589985bb7a274bf54d6cc0a7"
   }
  }
 },
 "nbformat": 4,
 "nbformat_minor": 2
}
